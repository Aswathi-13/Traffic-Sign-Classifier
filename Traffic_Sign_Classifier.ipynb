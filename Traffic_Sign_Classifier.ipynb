{
 "cells": [
  {
   "cell_type": "markdown",
   "metadata": {},
   "source": [
    "# Self-Driving Car Engineer Nanodegree\n",
    "\n",
    "## Deep Learning\n",
    "\n",
    "## Project: Build a Traffic Sign Recognition Classifier\n",
    "\n",
    "In this notebook, a template is provided for you to implement your functionality in stages, which is required to successfully complete this project. If additional code is required that cannot be included in the notebook, be sure that the Python code is successfully imported and included in your submission if necessary. \n",
    "\n",
    "> **Note**: Once you have completed all of the code implementations, you need to finalize your work by exporting the iPython Notebook as an HTML document. Before exporting the notebook to html, all of the code cells need to have been run so that reviewers can see the final implementation and output. You can then export the notebook by using the menu above and navigating to  \\n\",\n",
    "    \"**File -> Download as -> HTML (.html)**. Include the finished document along with this notebook as your submission. \n",
    "\n",
    "In addition to implementing code, there is a writeup to complete. The writeup should be completed in a separate file, which can be either a markdown file or a pdf document. There is a [write up template](https://github.com/udacity/CarND-Traffic-Sign-Classifier-Project/blob/master/writeup_template.md) that can be used to guide the writing process. Completing the code template and writeup template will cover all of the [rubric points](https://review.udacity.com/#!/rubrics/481/view) for this project.\n",
    "\n",
    "The [rubric](https://review.udacity.com/#!/rubrics/481/view) contains \"Stand Out Suggestions\" for enhancing the project beyond the minimum requirements. The stand out suggestions are optional. If you decide to pursue the \"stand out suggestions\", you can include the code in this Ipython notebook and also discuss the results in the writeup file.\n",
    "\n",
    "\n",
    ">**Note:** Code and Markdown cells can be executed using the **Shift + Enter** keyboard shortcut. In addition, Markdown cells can be edited by typically double-clicking the cell to enter edit mode."
   ]
  },
  {
   "cell_type": "markdown",
   "metadata": {},
   "source": [
    "---\n",
    "## Step 0: Load The Data"
   ]
  },
  {
   "cell_type": "code",
   "execution_count": 1,
   "metadata": {},
   "outputs": [
    {
     "name": "stdout",
     "output_type": "stream",
     "text": [
      "Image Shape: (32, 32, 3)\n",
      "\n",
      "Training Set: 34799 samples\n",
      "Validation Set: 4410 samples\n",
      "Test Set: 12630 samples\n"
     ]
    }
   ],
   "source": [
    "# Load pickled data\n",
    "import pickle\n",
    "\n",
    "# TODO: Fill this in based on where you saved the training and testing data\n",
    "\n",
    "training_file = '../data/train.p'\n",
    "validation_file= '../data/valid.p'\n",
    "testing_file = '../data/test.p'\n",
    "\n",
    "with open(training_file, mode='rb') as f:\n",
    "    train = pickle.load(f)\n",
    "with open(validation_file, mode='rb') as f:\n",
    "    valid = pickle.load(f)\n",
    "with open(testing_file, mode='rb') as f:\n",
    "    test = pickle.load(f)\n",
    "    \n",
    "X_train, y_train = train['features'], train['labels']\n",
    "X_valid, y_valid = valid['features'], valid['labels']\n",
    "X_test, y_test = test['features'], test['labels']\n",
    "\n",
    "\n",
    "print(\"Image Shape: {}\".format(X_train[0].shape))\n",
    "print()\n",
    "print(\"Training Set: {} samples\".format(len(X_train)))\n",
    "print(\"Validation Set: {} samples\".format(len(X_valid)))\n",
    "print(\"Test Set: {} samples\".format(len(X_test)))\n"
   ]
  },
  {
   "cell_type": "markdown",
   "metadata": {},
   "source": [
    "---\n",
    "\n",
    "## Step 1: Dataset Summary & Exploration\n",
    "\n",
    "The pickled data is a dictionary with 4 key/value pairs:\n",
    "\n",
    "- `'features'` is a 4D array containing raw pixel data of the traffic sign images, (num examples, width, height, channels).\n",
    "- `'labels'` is a 1D array containing the label/class id of the traffic sign. The file `signnames.csv` contains id -> name mappings for each id.\n",
    "- `'sizes'` is a list containing tuples, (width, height) representing the original width and height the image.\n",
    "- `'coords'` is a list containing tuples, (x1, y1, x2, y2) representing coordinates of a bounding box around the sign in the image. **THESE COORDINATES ASSUME THE ORIGINAL IMAGE. THE PICKLED DATA CONTAINS RESIZED VERSIONS (32 by 32) OF THESE IMAGES**\n",
    "\n",
    "Complete the basic data summary below. Use python, numpy and/or pandas methods to calculate the data summary rather than hard coding the results. For example, the [pandas shape method](http://pandas.pydata.org/pandas-docs/stable/generated/pandas.DataFrame.shape.html) might be useful for calculating some of the summary results. "
   ]
  },
  {
   "cell_type": "markdown",
   "metadata": {},
   "source": [
    "### Provide a Basic Summary of the Data Set Using Python, Numpy and/or Pandas"
   ]
  },
  {
   "cell_type": "code",
   "execution_count": 2,
   "metadata": {},
   "outputs": [
    {
     "name": "stdout",
     "output_type": "stream",
     "text": [
      "Number of training examples = 34799\n",
      "Number of testing examples = 12630\n",
      "Image data shape = (32, 32, 3)\n",
      "Number of classes = 43\n"
     ]
    }
   ],
   "source": [
    "### Replace each question mark with the appropriate value. \n",
    "### Use python, pandas or numpy methods rather than hard coding the results\n",
    "import numpy as np\n",
    "# TODO: Number of training examples\n",
    "n_train = len(X_train)\n",
    "\n",
    "# TODO: Number of validation examples\n",
    "n_validation = len(X_valid)\n",
    "\n",
    "# TODO: Number of testing examples.\n",
    "n_test = len(X_test)\n",
    "\n",
    "# TODO: What's the shape of an traffic sign image?\n",
    "image_shape = X_train[0].shape #check\n",
    "\n",
    "# TODO: How many unique classes/labels there are in the dataset.\n",
    "n_classes = np.unique(train['labels']).size #check  # image total classes\n",
    "\n",
    "print(\"Number of training examples =\", n_train)\n",
    "print(\"Number of testing examples =\", n_test)\n",
    "print(\"Image data shape =\", image_shape)\n",
    "print(\"Number of classes =\", n_classes)\n"
   ]
  },
  {
   "cell_type": "markdown",
   "metadata": {},
   "source": [
    "### Include an exploratory visualization of the dataset"
   ]
  },
  {
   "cell_type": "markdown",
   "metadata": {},
   "source": [
    "Visualize the German Traffic Signs Dataset using the pickled file(s). This is open ended, suggestions include: plotting traffic sign images, plotting the count of each sign, etc. \n",
    "\n",
    "The [Matplotlib](http://matplotlib.org/) [examples](http://matplotlib.org/examples/index.html) and [gallery](http://matplotlib.org/gallery.html) pages are a great resource for doing visualizations in Python.\n",
    "\n",
    "**NOTE:** It's recommended you start with something simple first. If you wish to do more, come back to it after you've completed the rest of the sections. It can be interesting to look at the distribution of classes in the training, validation and test set. Is the distribution the same? Are there more examples of some classes than others?"
   ]
  },
  {
   "cell_type": "code",
   "execution_count": 3,
   "metadata": {},
   "outputs": [
    {
     "name": "stdout",
     "output_type": "stream",
     "text": [
      "3\n"
     ]
    }
   ],
   "source": [
    "### Data exploration visualization code goes here.\n",
    "### Feel free to use as many code cells as needed.\n",
    "import matplotlib.pyplot as plt\n",
    "# Visualizations will be shown in the notebook.\n",
    "\n",
    "import random\n",
    "\n",
    "import matplotlib.pyplot as plt\n",
    "\n",
    "\n",
    "index = random.randint(0, len(X_train))\n",
    "image = X_train[index].squeeze()\n",
    "plt.figure(figsize=(1,1))\n",
    "plt.imshow(image)\n",
    "print(y_train[index])\n",
    "\n"
   ]
  },
  {
   "cell_type": "code",
   "execution_count": 4,
   "metadata": {},
   "outputs": [
    {
     "data": {
      "image/png": "[encoded data removed]",
      "text/plain": [
       "<matplotlib.figure.Figure at 0x7fca4499eb38>"
      ]
     },
     "metadata": {
      "needs_background": "light"
     },
     "output_type": "display_data"
    }
   ],
   "source": [
    "plt.subplot(221)\n",
    "plt.title('Training')\n",
    "plt.grid(True)\n",
    "hist, bins = np.histogram(y_train, bins=n_classes)\n",
    "width = 0.7 * (bins[1] - bins[0])\n",
    "center = (bins[:-1] + bins[1:]) / 2\n",
    "plt.bar(center, hist, align='center', width=width)\n",
    "\n",
    "#Validation\n",
    "plt.subplot(222)\n",
    "plt.title('Validation')\n",
    "plt.grid(True)\n",
    "hist, bins = np.histogram(y_valid, bins=n_classes)\n",
    "width = 0.7 * (bins[1] - bins[0])\n",
    "center = (bins[:-1] + bins[1:]) / 2\n",
    "plt.bar(center, hist, align='center', width=width)\n",
    "\n",
    "#Test\n",
    "plt.subplot(223)\n",
    "plt.title('Test')\n",
    "plt.grid(True)\n",
    "hist, bins = np.histogram(y_test, bins=n_classes)\n",
    "width = 0.7 * (bins[1] - bins[0])\n",
    "center = (bins[:-1] + bins[1:]) / 2\n",
    "plt.bar(center, hist, align='center', width=width)\n",
    "\n",
    "plt.subplots_adjust(top=0.92, bottom=0.08, left=0.10, right=0.95, hspace=0.25,\n",
    "                    wspace=0.35)\n",
    "\n",
    "plt.show()"
   ]
  },
  {
   "cell_type": "code",
   "execution_count": null,
   "metadata": {},
   "outputs": [],
   "source": [
    "#plotting all the images and their respective road signs.."
   ]
  },
  {
   "cell_type": "markdown",
   "metadata": {},
   "source": [
    "----\n",
    "\n",
    "## Step 2: Design and Test a Model Architecture\n",
    "\n",
    "Design and implement a deep learning model that learns to recognize traffic signs. Train and test your model on the [German Traffic Sign Dataset](http://benchmark.ini.rub.de/?section=gtsrb&subsection=dataset).\n",
    "\n",
    "The LeNet-5 implementation shown in the [classroom](https://classroom.udacity.com/nanodegrees/nd013/parts/fbf77062-5703-404e-b60c-95b78b2f3f9e/modules/6df7ae49-c61c-4bb2-a23e-6527e69209ec/lessons/601ae704-1035-4287-8b11-e2c2716217ad/concepts/d4aca031-508f-4e0b-b493-e7b706120f81) at the end of the CNN lesson is a solid starting point. You'll have to change the number of classes and possibly the preprocessing, but aside from that it's plug and play! \n",
    "\n",
    "With the LeNet-5 solution from the lecture, you should expect a validation set accuracy of about 0.89. To meet specifications, the validation set accuracy will need to be at least 0.93. It is possible to get an even higher accuracy, but 0.93 is the minimum for a successful project submission. \n",
    "\n",
    "There are various aspects to consider when thinking about this problem:\n",
    "\n",
    "- Neural network architecture (is the network over or underfitting?)\n",
    "- Play around preprocessing techniques (normalization, rgb to grayscale, etc)\n",
    "- Number of examples per label (some have more than others).\n",
    "- Generate fake data.\n",
    "\n",
    "Here is an example of a [published baseline model on this problem](http://yann.lecun.com/exdb/publis/pdf/sermanet-ijcnn-11.pdf). It's not required to be familiar with the approach used in the paper but, it's good practice to try to read papers like these."
   ]
  },
  {
   "cell_type": "markdown",
   "metadata": {},
   "source": [
    "### Pre-process the Data Set (normalization, grayscale, etc.)"
   ]
  },
  {
   "cell_type": "markdown",
   "metadata": {},
   "source": [
    "Minimally, the image data should be normalized so that the data has mean zero and equal variance. For image data, `(pixel - 128)/ 128` is a quick way to approximately normalize the data and can be used in this project. \n",
    "\n",
    "Other pre-processing steps are optional. You can try different techniques to see if it improves performance. \n",
    "\n",
    "Use the code cell (or multiple code cells, if necessary) to implement the first step of your project."
   ]
  },
  {
   "cell_type": "code",
   "execution_count": null,
   "metadata": {},
   "outputs": [],
   "source": [
    "### Preprocess the data here. It is required to normalize the data. Other preprocessing steps could include \n",
    "### converting to grayscale, etc.\n",
    "### Feel free to use as many code cells as needed.\n",
    "\n",
    "#normalising the data\n",
    "\n",
    "#x_train = (X_train-128)/128\n",
    "#X_valid = (X_valid-128)/128\n"
   ]
  },
  {
   "cell_type": "code",
   "execution_count": null,
   "metadata": {},
   "outputs": [],
   "source": [
    "x_train = X_train"
   ]
  },
  {
   "cell_type": "code",
   "execution_count": 5,
   "metadata": {},
   "outputs": [],
   "source": [
    "from sklearn.utils import shuffle\n",
    "x_train, y_train = shuffle(X_train, y_train)"
   ]
  },
  {
   "cell_type": "markdown",
   "metadata": {},
   "source": [
    "### Model Architecture"
   ]
  },
  {
   "cell_type": "code",
   "execution_count": null,
   "metadata": {},
   "outputs": [],
   "source": [
    "### Define your architecture here.\n",
    "### Feel free to use as many code cells as needed."
   ]
  },
  {
   "cell_type": "code",
   "execution_count": 6,
   "metadata": {},
   "outputs": [],
   "source": [
    "import tensorflow as tf\n",
    "EPOCHS = 50\n",
    "BATCH_SIZE = 128"
   ]
  },
  {
   "cell_type": "code",
   "execution_count": 7,
   "metadata": {},
   "outputs": [],
   "source": [
    "from tensorflow.contrib.layers import flatten\n",
    "\n",
    "def LeNet(x):    \n",
    "    # Arguments used for tf.truncated_normal, randomly defines variables for the weights and biases for each layer\n",
    "    mu = 0\n",
    "    sigma = 0.1\n",
    "    \n",
    "    # Layer 1: Convolutional. Input = 32x32x1. Output = 28x28x6.\n",
    "    conv1_W= tf.Variable(tf.truncated_normal(shape=(5,5,3,6), mean=mu, stddev=sigma))\n",
    "    conv1_b= tf.Variable(tf.zeros(6))\n",
    "    conv1= tf.nn.conv2d(x,conv1_W,strides=[1,1,1,1],padding='VALID',use_cudnn_on_gpu=True) + conv1_b\n",
    "\n",
    "    # Activation.\n",
    "    conv1= tf.nn.relu(conv1)\n",
    "\n",
    "    # Layer 2: Convolutional. Input = 28x28x6. Output = 14x14x10.\n",
    "    conv3_W= tf.Variable(tf.truncated_normal(shape=(5,5,6,10), mean=mu, stddev=sigma))\n",
    "    conv3_b= tf.Variable(tf.zeros(10))\n",
    "    conv3= tf.nn.conv2d(conv1,conv3_W,strides=[1,2,2,1],padding='VALID',use_cudnn_on_gpu=True) + conv3_b\n",
    "\n",
    "    # Activation.\n",
    "    conv3= tf.nn.relu(conv3)\n",
    "\n",
    "    # Layer 3: Convolutional. Input = 14x14x10. Output = 8x8x16.\n",
    "    conv2_W= tf.Variable(tf.truncated_normal(shape=(5,5,10,16),mean=mu,stddev=sigma))\n",
    "    conv2_b=tf.Variable(tf.zeros(16))\n",
    "    conv2= tf.nn.conv2d(conv3,conv2_W,strides=[1,1,1,1],padding='VALID',use_cudnn_on_gpu=True) + conv2_b\n",
    "    \n",
    "    # Activation.\n",
    "    conv2= tf.nn.relu(conv2)\n",
    "\n",
    "    # Pooling. Input = 8x8x16. Output = 4x4x16.\n",
    "    conv2= tf.nn.max_pool(conv2,ksize=[1,2,2,1],strides=[1,2,2,1],padding='VALID')\n",
    "\n",
    "    # Flatten. Input = 4x4x16. Output = 256.\n",
    "    f= flatten(conv2)\n",
    "\n",
    "    # Layer 4: Fully Connected. Input = 256. Output = 120.\n",
    "    fc1_W= tf.Variable(tf.truncated_normal(shape=(int(np.shape(f)[1]),120),mean=mu,stddev=sigma))\n",
    "    fc1_b= tf.Variable(tf.zeros(shape=120))\n",
    "    fc1= tf.matmul(f,fc1_W) + fc1_b\n",
    "    \n",
    "    # Activation.\n",
    "    fc1= tf.nn.relu(fc1)\n",
    "    \n",
    "    # Introduce Dropout after first fully connected layer\n",
    "    fc1 = tf.nn.dropout(fc1, keep_prob)\n",
    "\n",
    "    # Layer 5: Fully Connected. Input = 120. Output = 100.\n",
    "    fc2_W= tf.Variable(tf.truncated_normal(shape=(120,100),mean=mu,stddev=sigma))\n",
    "    fc2_b= tf.Variable(tf.zeros(100))\n",
    "    fc2= tf.matmul(fc1,fc2_W) + fc2_b\n",
    "    \n",
    "    # Activation.\n",
    "    fc2= tf.nn.relu(fc2)\n",
    "    \n",
    "    # Layer 6: Fully Connected. Input = 100. Output = 84.\n",
    "    fc4_W= tf.Variable(tf.truncated_normal(shape=(100,84),mean=mu,stddev=sigma))\n",
    "    fc4_b= tf.Variable(tf.zeros(84))\n",
    "    fc4= tf.matmul(fc2,fc4_W) + fc4_b\n",
    "    \n",
    "    # Activation.\n",
    "    fc4= tf.nn.relu(fc4)\n",
    "    \n",
    "    # Layer 7: Fully Connected. Input = 84. Output = 43.\n",
    "    fc3_W= tf.Variable(tf.truncated_normal(shape=(84,43),mean=mu,stddev=sigma))\n",
    "    fc3_b= tf.Variable(tf.zeros(43))\n",
    "    fc3= tf.matmul(fc4,fc3_W) + fc3_b\n",
    "    logits=fc3\n",
    "        \n",
    "    return logits"
   ]
  },
  {
   "cell_type": "markdown",
   "metadata": {},
   "source": [
    "### Train, Validate and Test the Model"
   ]
  },
  {
   "cell_type": "markdown",
   "metadata": {},
   "source": [
    "A validation set can be used to assess how well the model is performing. A low accuracy on the training and validation\n",
    "sets imply underfitting. A high accuracy on the training set but low accuracy on the validation set implies overfitting."
   ]
  },
  {
   "cell_type": "code",
   "execution_count": null,
   "metadata": {},
   "outputs": [],
   "source": [
    "### Train your model here.\n",
    "### Calculate and report the accuracy on the training and validation set.\n",
    "### Once a final model architecture is selected, \n",
    "### the accuracy on the test set should be calculated and reported as well.\n",
    "### Feel free to use as many code cells as needed."
   ]
  },
  {
   "cell_type": "code",
   "execution_count": 8,
   "metadata": {},
   "outputs": [
    {
     "name": "stdout",
     "output_type": "stream",
     "text": [
      "Tensor(\"Placeholder:0\", shape=(?, 32, 32, 3), dtype=float32)\n"
     ]
    }
   ],
   "source": [
    "x = tf.placeholder(tf.float32, (None, 32, 32, 3))\n",
    "y = tf.placeholder(tf.int32, (None))\n",
    "one_hot_y = tf.one_hot(y, 43)\n",
    "keep_prob = tf.placeholder(tf.float32) # defining the dropout probability after fully connected layer in the architecture\n",
    "#keep_prob = tf.placeholder(tf.float32)\n",
    "print(x)"
   ]
  },
  {
   "cell_type": "code",
   "execution_count": 9,
   "metadata": {},
   "outputs": [],
   "source": [
    "rate = 0.0009\n",
    "logits = LeNet(x)\n",
    "#print(logits)\n",
    "cross_entropy = tf.nn.softmax_cross_entropy_with_logits(labels=one_hot_y, logits=logits)\n",
    "loss_operation = tf.reduce_mean(cross_entropy)\n",
    "optimizer = tf.train.AdamOptimizer(learning_rate = rate)\n",
    "training_operation = optimizer.minimize(loss_operation)"
   ]
  },
  {
   "cell_type": "code",
   "execution_count": 10,
   "metadata": {},
   "outputs": [],
   "source": [
    "correct_prediction = tf.equal(tf.argmax(logits, 1), tf.argmax(one_hot_y, 1))\n",
    "accuracy_operation = tf.reduce_mean(tf.cast(correct_prediction, tf.float32))\n",
    "saver = tf.train.Saver()\n",
    "\n",
    "def evaluate(X_data, y_data):\n",
    "    num_examples = len(X_data)\n",
    "    total_accuracy = 0\n",
    "    sess = tf.get_default_session()\n",
    "    for offset in range(0, num_examples, BATCH_SIZE):\n",
    "        batch_x, batch_y = X_data[offset:offset+BATCH_SIZE], y_data[offset:offset+BATCH_SIZE]\n",
    "        accuracy = sess.run(accuracy_operation, feed_dict={x: batch_x, y: batch_y,keep_prob:1.0})\n",
    "        total_accuracy += (accuracy * len(batch_x))\n",
    "    return total_accuracy / num_examples"
   ]
  },
  {
   "cell_type": "code",
   "execution_count": 11,
   "metadata": {},
   "outputs": [
    {
     "name": "stdout",
     "output_type": "stream",
     "text": [
      "Training...\n",
      "\n",
      "EPOCH 1 ...\n",
      "Trainig Accuracy = 0.571\n",
      "Validation Accuracy = 0.526\n",
      "\n",
      "EPOCH 2 ...\n",
      "Trainig Accuracy = 0.805\n",
      "Validation Accuracy = 0.761\n",
      "\n",
      "EPOCH 3 ...\n",
      "Trainig Accuracy = 0.877\n",
      "Validation Accuracy = 0.832\n",
      "\n",
      "EPOCH 4 ...\n",
      "Trainig Accuracy = 0.904\n",
      "Validation Accuracy = 0.849\n",
      "\n",
      "EPOCH 5 ...\n",
      "Trainig Accuracy = 0.936\n",
      "Validation Accuracy = 0.880\n",
      "\n",
      "EPOCH 6 ...\n",
      "Trainig Accuracy = 0.948\n",
      "Validation Accuracy = 0.883\n",
      "\n",
      "EPOCH 7 ...\n",
      "Trainig Accuracy = 0.959\n",
      "Validation Accuracy = 0.905\n",
      "\n",
      "EPOCH 8 ...\n",
      "Trainig Accuracy = 0.962\n",
      "Validation Accuracy = 0.899\n",
      "\n",
      "EPOCH 9 ...\n",
      "Trainig Accuracy = 0.965\n",
      "Validation Accuracy = 0.912\n",
      "\n",
      "EPOCH 10 ...\n",
      "Trainig Accuracy = 0.970\n",
      "Validation Accuracy = 0.912\n",
      "\n",
      "EPOCH 11 ...\n",
      "Trainig Accuracy = 0.974\n",
      "Validation Accuracy = 0.917\n",
      "\n",
      "EPOCH 12 ...\n",
      "Trainig Accuracy = 0.974\n",
      "Validation Accuracy = 0.923\n",
      "\n",
      "EPOCH 13 ...\n",
      "Trainig Accuracy = 0.976\n",
      "Validation Accuracy = 0.915\n",
      "\n",
      "EPOCH 14 ...\n",
      "Trainig Accuracy = 0.983\n",
      "Validation Accuracy = 0.921\n",
      "\n",
      "EPOCH 15 ...\n",
      "Trainig Accuracy = 0.985\n",
      "Validation Accuracy = 0.934\n",
      "\n",
      "EPOCH 16 ...\n",
      "Trainig Accuracy = 0.983\n",
      "Validation Accuracy = 0.932\n",
      "\n",
      "EPOCH 17 ...\n",
      "Trainig Accuracy = 0.987\n",
      "Validation Accuracy = 0.936\n",
      "\n",
      "EPOCH 18 ...\n",
      "Trainig Accuracy = 0.989\n",
      "Validation Accuracy = 0.942\n",
      "\n",
      "EPOCH 19 ...\n",
      "Trainig Accuracy = 0.986\n",
      "Validation Accuracy = 0.930\n",
      "\n",
      "EPOCH 20 ...\n",
      "Trainig Accuracy = 0.987\n",
      "Validation Accuracy = 0.928\n",
      "\n",
      "EPOCH 21 ...\n",
      "Trainig Accuracy = 0.990\n",
      "Validation Accuracy = 0.946\n",
      "\n",
      "EPOCH 22 ...\n",
      "Trainig Accuracy = 0.986\n",
      "Validation Accuracy = 0.940\n",
      "\n",
      "EPOCH 23 ...\n",
      "Trainig Accuracy = 0.990\n",
      "Validation Accuracy = 0.940\n",
      "\n",
      "EPOCH 24 ...\n",
      "Trainig Accuracy = 0.988\n",
      "Validation Accuracy = 0.939\n",
      "\n",
      "EPOCH 25 ...\n",
      "Trainig Accuracy = 0.992\n",
      "Validation Accuracy = 0.946\n",
      "\n",
      "EPOCH 26 ...\n",
      "Trainig Accuracy = 0.992\n",
      "Validation Accuracy = 0.947\n",
      "\n",
      "EPOCH 27 ...\n",
      "Trainig Accuracy = 0.993\n",
      "Validation Accuracy = 0.949\n",
      "\n",
      "EPOCH 28 ...\n",
      "Trainig Accuracy = 0.993\n",
      "Validation Accuracy = 0.949\n",
      "\n",
      "EPOCH 29 ...\n",
      "Trainig Accuracy = 0.989\n",
      "Validation Accuracy = 0.942\n",
      "\n",
      "EPOCH 30 ...\n",
      "Trainig Accuracy = 0.992\n",
      "Validation Accuracy = 0.953\n",
      "\n",
      "EPOCH 31 ...\n",
      "Trainig Accuracy = 0.994\n",
      "Validation Accuracy = 0.950\n",
      "\n",
      "EPOCH 32 ...\n",
      "Trainig Accuracy = 0.994\n",
      "Validation Accuracy = 0.952\n",
      "\n",
      "EPOCH 33 ...\n",
      "Trainig Accuracy = 0.993\n",
      "Validation Accuracy = 0.953\n",
      "\n",
      "EPOCH 34 ...\n",
      "Trainig Accuracy = 0.992\n",
      "Validation Accuracy = 0.956\n",
      "\n",
      "EPOCH 35 ...\n",
      "Trainig Accuracy = 0.995\n",
      "Validation Accuracy = 0.947\n",
      "\n",
      "EPOCH 36 ...\n",
      "Trainig Accuracy = 0.996\n",
      "Validation Accuracy = 0.955\n",
      "\n",
      "EPOCH 37 ...\n",
      "Trainig Accuracy = 0.995\n",
      "Validation Accuracy = 0.952\n",
      "\n",
      "EPOCH 38 ...\n",
      "Trainig Accuracy = 0.993\n",
      "Validation Accuracy = 0.946\n",
      "\n",
      "EPOCH 39 ...\n",
      "Trainig Accuracy = 0.996\n",
      "Validation Accuracy = 0.956\n",
      "\n",
      "EPOCH 40 ...\n",
      "Trainig Accuracy = 0.995\n",
      "Validation Accuracy = 0.950\n",
      "\n",
      "EPOCH 41 ...\n",
      "Trainig Accuracy = 0.997\n",
      "Validation Accuracy = 0.953\n",
      "\n",
      "EPOCH 42 ...\n",
      "Trainig Accuracy = 0.995\n",
      "Validation Accuracy = 0.957\n",
      "\n",
      "EPOCH 43 ...\n",
      "Trainig Accuracy = 0.998\n",
      "Validation Accuracy = 0.957\n",
      "\n",
      "EPOCH 44 ...\n",
      "Trainig Accuracy = 0.997\n",
      "Validation Accuracy = 0.962\n",
      "\n",
      "EPOCH 45 ...\n",
      "Trainig Accuracy = 0.997\n",
      "Validation Accuracy = 0.953\n",
      "\n",
      "EPOCH 46 ...\n",
      "Trainig Accuracy = 0.996\n",
      "Validation Accuracy = 0.952\n",
      "\n",
      "EPOCH 47 ...\n",
      "Trainig Accuracy = 0.995\n",
      "Validation Accuracy = 0.952\n",
      "\n",
      "EPOCH 48 ...\n",
      "Trainig Accuracy = 0.997\n",
      "Validation Accuracy = 0.958\n",
      "\n",
      "EPOCH 49 ...\n",
      "Trainig Accuracy = 0.997\n",
      "Validation Accuracy = 0.958\n",
      "\n",
      "EPOCH 50 ...\n",
      "Trainig Accuracy = 0.997\n",
      "Validation Accuracy = 0.957\n",
      "\n",
      "Model saved\n"
     ]
    }
   ],
   "source": [
    "with tf.Session() as sess:\n",
    "    sess.run(tf.global_variables_initializer())\n",
    "    num_examples = len(X_train)\n",
    "    \n",
    "    print(\"Training...\")\n",
    "    print()\n",
    "    for i in range(EPOCHS):\n",
    "        x_train, y_train = shuffle(x_train, y_train)\n",
    "        for offset in range(0, num_examples, BATCH_SIZE):\n",
    "            end = offset + BATCH_SIZE\n",
    "            batch_x, batch_y = x_train[offset:end], y_train[offset:end]\n",
    "            sess.run(training_operation, feed_dict={x: batch_x, y: batch_y,keep_prob:0.5})\n",
    "        validation_accuracy = evaluate(X_valid, y_valid)\n",
    "        training_accuracy = evaluate(x_train, y_train)\n",
    "        print(\"EPOCH {} ...\".format(i+1))\n",
    "        print(\"Trainig Accuracy = {:.3f}\".format(training_accuracy))\n",
    "        print(\"Validation Accuracy = {:.3f}\".format(validation_accuracy))\n",
    "        print()\n",
    "    saver.save(sess, './lenet')\n",
    "    print(\"Model saved\")"
   ]
  },
  {
   "cell_type": "code",
   "execution_count": 12,
   "metadata": {},
   "outputs": [
    {
     "name": "stdout",
     "output_type": "stream",
     "text": [
      "INFO:tensorflow:Restoring parameters from ./lenet\n",
      "Test Accuracy = 0.943\n"
     ]
    }
   ],
   "source": [
    "# Check Test Accuracy\n",
    "\n",
    "with tf.Session() as sess:\n",
    "    saver.restore(sess, tf.train.latest_checkpoint('.'))\n",
    "    test_accuracy = evaluate(X_test, y_test)\n",
    "    print(\"Test Accuracy = {:.3f}\".format(test_accuracy))"
   ]
  },
  {
   "cell_type": "markdown",
   "metadata": {},
   "source": [
    "---\n",
    "\n",
    "## Step 3: Test a Model on New Images\n",
    "\n",
    "To give yourself more insight into how your model is working, download at least five pictures of German traffic signs from the web and use your model to predict the traffic sign type.\n",
    "\n",
    "You may find `signnames.csv` useful as it contains mappings from the class id (integer) to the actual sign name."
   ]
  },
  {
   "cell_type": "markdown",
   "metadata": {},
   "source": [
    "### Load and Output the Images"
   ]
  },
  {
   "cell_type": "code",
   "execution_count": null,
   "metadata": {},
   "outputs": [],
   "source": [
    "### Load the images and plot them here.\n",
    "### Feel free to use as many code cells as needed."
   ]
  },
  {
   "cell_type": "code",
   "execution_count": 13,
   "metadata": {},
   "outputs": [
    {
     "data": {
      "image/png": "[encoded data removed]",
      "text/plain": [
       "<matplotlib.figure.Figure at 0x7fca3738f240>"
      ]
     },
     "metadata": {
      "needs_background": "light"
     },
     "output_type": "display_data"
    },
    {
     "data": {
      "image/png": "[encoded data removed]",
      "text/plain": [
       "<matplotlib.figure.Figure at 0x7fca373dccc0>"
      ]
     },
     "metadata": {
      "needs_background": "light"
     },
     "output_type": "display_data"
    },
    {
     "data": {
      "image/png": "[encoded data removed]",
      "text/plain": [
       "<matplotlib.figure.Figure at 0x7fc9e81a0160>"
      ]
     },
     "metadata": {
      "needs_background": "light"
     },
     "output_type": "display_data"
    },
    {
     "data": {
      "image/png": "[encoded data removed]",
      "text/plain": [
       "<matplotlib.figure.Figure at 0x7fc9e8157e48>"
      ]
     },
     "metadata": {
      "needs_background": "light"
     },
     "output_type": "display_data"
    },
    {
     "data": {
      "image/png": "[encoded data removed]",
      "text/plain": [
       "<matplotlib.figure.Figure at 0x7fc9e8119ac8>"
      ]
     },
     "metadata": {
      "needs_background": "light"
     },
     "output_type": "display_data"
    }
   ],
   "source": [
    "\n",
    "import numpy as np\n",
    "import matplotlib.pyplot as plt\n",
    "import cv2\n",
    "import glob\n",
    "import os\n",
    "\n",
    "# Resize the image to the size of the training data\n",
    "my_images = []\n",
    "\n",
    "for i, img in enumerate(os.listdir('test_images/check/')):\n",
    "    image = cv2.imread('test_images/check/' + img)\n",
    "    my_images.append(image)\n",
    "    plt.figure()\n",
    "    plt.xlabel(img)\n",
    "    plt.imshow(image)\n",
    "\n",
    "\n",
    "my_images = np.asarray(my_images)"
   ]
  },
  {
   "cell_type": "markdown",
   "metadata": {},
   "source": [
    "### Predict the Sign Type for Each Image"
   ]
  },
  {
   "cell_type": "code",
   "execution_count": 14,
   "metadata": {},
   "outputs": [
    {
     "name": "stdout",
     "output_type": "stream",
     "text": [
      "[34, 11, 13, 31, 12]\n"
     ]
    }
   ],
   "source": [
    "### Run the predictions here and use the model to output the prediction for each image.\n",
    "### Make sure to pre-process the images with the same pre-processing pipeline used earlier.\n",
    "### Feel free to use as many code cells as needed.\n",
    "\n",
    "# Check Test Accuracy\n",
    "\n",
    "#predictionResult=(prediction.eval(feed_dict={x: X_testNew, keep_prob: 1}))\n",
    "traffic_test_signs = './test_images/check/'\n",
    "\n",
    "my_Y_test = []\n",
    "for image_file in glob.glob(traffic_test_signs + \"*.jpg\"):\n",
    "    try:\n",
    "    #if (True):\n",
    "        # the label is encoded into the first two characters of the file names\n",
    "        label_str = image_file[len(traffic_test_signs):][:2]\n",
    "        label = int(label_str)\n",
    "        my_Y_test.append(label)\n",
    "    except  Exception:\n",
    "        print ('Ignoring image {}'.format(image_file))\n",
    "print(my_Y_test)\n"
   ]
  },
  {
   "cell_type": "markdown",
   "metadata": {},
   "source": [
    "### Analyze Performance"
   ]
  },
  {
   "cell_type": "code",
   "execution_count": 17,
   "metadata": {},
   "outputs": [
    {
     "name": "stdout",
     "output_type": "stream",
     "text": [
      "INFO:tensorflow:Restoring parameters from ./lenet\n",
      "Test Accuracy = 1.000\n",
      "[34 11 13 31 12]\n"
     ]
    }
   ],
   "source": [
    "### Calculate the accuracy for these 5 new images. \n",
    "### For example, if the model predicted 1 out of 5 signs correctly, it's 20% accurate on these new images.\n",
    "\n",
    "my_labels = [34, 11, 13, 31, 12]\n",
    "prediction=tf.argmax(logits,1)\n",
    "\n",
    "with tf.Session() as sess:\n",
    "    saver.restore(sess, tf.train.latest_checkpoint('.'))\n",
    "    output_accuracy = evaluate(my_images, my_labels)\n",
    "    print(\"Test Accuracy = {:.3f}\".format(output_accuracy))\n",
    "    predictions = sess.run(prediction, feed_dict={x: my_images, keep_prob: 1.0})\n",
    "    print(predictions)"
   ]
  },
  {
   "cell_type": "markdown",
   "metadata": {},
   "source": [
    "### Output Top 5 Softmax Probabilities For Each Image Found on the Web"
   ]
  },
  {
   "cell_type": "markdown",
   "metadata": {},
   "source": [
    "For each of the new images, print out the model's softmax probabilities to show the **certainty** of the model's predictions (limit the output to the top 5 probabilities for each image). [`tf.nn.top_k`](https://www.tensorflow.org/versions/r0.12/api_docs/python/nn.html#top_k) could prove helpful here. \n",
    "\n",
    "The example below demonstrates how tf.nn.top_k can be used to find the top k predictions for each image.\n",
    "\n",
    "`tf.nn.top_k` will return the values and indices (class ids) of the top k predictions. So if k=3, for each sign, it'll return the 3 largest probabilities (out of a possible 43) and the correspoding class ids.\n",
    "\n",
    "Take this numpy array as an example. The values in the array represent predictions. The array contains softmax probabilities for five candidate images with six possible classes. `tf.nn.top_k` is used to choose the three classes with the highest probability:\n",
    "\n",
    "```\n",
    "# (5, 6) array\n",
    "a = np.array([[ 0.24879643,  0.07032244,  0.12641572,  0.34763842,  0.07893497,\n",
    "         0.12789202],\n",
    "       [ 0.28086119,  0.27569815,  0.08594638,  0.0178669 ,  0.18063401,\n",
    "         0.15899337],\n",
    "       [ 0.26076848,  0.23664738,  0.08020603,  0.07001922,  0.1134371 ,\n",
    "         0.23892179],\n",
    "       [ 0.11943333,  0.29198961,  0.02605103,  0.26234032,  0.1351348 ,\n",
    "         0.16505091],\n",
    "       [ 0.09561176,  0.34396535,  0.0643941 ,  0.16240774,  0.24206137,\n",
    "         0.09155967]])\n",
    "```\n",
    "\n",
    "Running it through `sess.run(tf.nn.top_k(tf.constant(a), k=3))` produces:\n",
    "\n",
    "```\n",
    "TopKV2(values=array([[ 0.34763842,  0.24879643,  0.12789202],\n",
    "       [ 0.28086119,  0.27569815,  0.18063401],\n",
    "       [ 0.26076848,  0.23892179,  0.23664738],\n",
    "       [ 0.29198961,  0.26234032,  0.16505091],\n",
    "       [ 0.34396535,  0.24206137,  0.16240774]]), indices=array([[3, 0, 5],\n",
    "       [0, 1, 4],\n",
    "       [0, 5, 1],\n",
    "       [1, 3, 5],\n",
    "       [1, 4, 3]], dtype=int32))\n",
    "```\n",
    "\n",
    "Looking just at the first row we get `[ 0.34763842,  0.24879643,  0.12789202]`, you can confirm these are the 3 largest probabilities in `a`. You'll also notice `[3, 0, 5]` are the corresponding indices."
   ]
  },
  {
   "cell_type": "code",
   "execution_count": null,
   "metadata": {},
   "outputs": [],
   "source": [
    "### Print out the top five softmax probabilities for the predictions on the German traffic sign images found on the web. \n",
    "### Feel free to use as many code cells as needed."
   ]
  },
  {
   "cell_type": "code",
   "execution_count": 18,
   "metadata": {},
   "outputs": [
    {
     "name": "stdout",
     "output_type": "stream",
     "text": [
      "INFO:tensorflow:Restoring parameters from ./lenet\n",
      "[[  6.75660479e-15   7.16763600e-15   6.36547894e-22   3.56663710e-16\n",
      "    1.55391714e-22   8.50870419e-20   6.53547970e-21   6.87802941e-21\n",
      "    4.43703789e-25   8.69133559e-19   2.04330102e-16   1.63594200e-06\n",
      "    7.83965652e-14   1.07815741e-13   4.16021159e-22   1.44673275e-20\n",
      "    1.77463765e-20   2.63142982e-15   3.74652939e-14   1.47825925e-19\n",
      "    1.86246269e-13   1.98866288e-25   2.25679380e-20   2.00385075e-14\n",
      "    1.35282476e-22   3.12411067e-13   2.33448448e-16   4.45399278e-19\n",
      "    1.43324644e-10   4.97775005e-16   7.29111595e-14   9.10626950e-23\n",
      "    3.96604777e-10   9.53229703e-16   9.99872208e-01   1.77670758e-12\n",
      "    4.53527224e-14   7.82014434e-16   1.26157465e-04   2.66827770e-20\n",
      "    6.02028193e-14   1.89398278e-14   6.92678769e-15]\n",
      " [  3.01803771e-37   3.72170551e-38   0.00000000e+00   0.00000000e+00\n",
      "    0.00000000e+00   0.00000000e+00   0.00000000e+00   0.00000000e+00\n",
      "    0.00000000e+00   0.00000000e+00   5.19328950e-34   1.00000000e+00\n",
      "    1.68983681e-29   1.42387757e-34   0.00000000e+00   0.00000000e+00\n",
      "    0.00000000e+00   1.15150383e-35   3.57186120e-22   4.90906860e-36\n",
      "    4.35028360e-31   6.32144186e-32   0.00000000e+00   1.37966315e-28\n",
      "    4.30958934e-29   1.62320765e-25   9.58071693e-26   6.61840352e-23\n",
      "    7.26914372e-23   2.86099456e-32   9.51591410e-12   0.00000000e+00\n",
      "    2.08356144e-35   4.62457765e-27   2.09817671e-17   4.32320993e-35\n",
      "    0.00000000e+00   3.37160102e-33   7.94223465e-27   0.00000000e+00\n",
      "    2.14119788e-27   0.00000000e+00   1.16395788e-35]\n",
      " [  5.15983711e-27   8.40640976e-29   1.91951468e-31   7.67148075e-38\n",
      "    3.83106135e-33   6.33937445e-35   0.00000000e+00   2.22332503e-37\n",
      "    7.00973324e-38   1.20199299e-26   0.00000000e+00   0.00000000e+00\n",
      "    5.43694725e-31   1.00000000e+00   3.26203557e-35   2.07859826e-29\n",
      "    0.00000000e+00   1.11437526e-33   1.83806335e-35   0.00000000e+00\n",
      "    0.00000000e+00   0.00000000e+00   1.93347171e-37   0.00000000e+00\n",
      "    0.00000000e+00   1.69996569e-32   3.87990143e-27   0.00000000e+00\n",
      "    2.03211940e-31   9.15824205e-35   0.00000000e+00   0.00000000e+00\n",
      "    0.00000000e+00   1.20527502e-35   3.44871345e-33   1.50264826e-25\n",
      "    4.17581391e-31   0.00000000e+00   6.97395257e-27   5.37443029e-29\n",
      "    0.00000000e+00   2.74327425e-36   0.00000000e+00]\n",
      " [  0.00000000e+00   7.14857935e-33   1.45483636e-37   0.00000000e+00\n",
      "    0.00000000e+00   0.00000000e+00   0.00000000e+00   0.00000000e+00\n",
      "    0.00000000e+00   0.00000000e+00   3.17525533e-37   6.09504870e-36\n",
      "    0.00000000e+00   0.00000000e+00   0.00000000e+00   0.00000000e+00\n",
      "    0.00000000e+00   0.00000000e+00   0.00000000e+00   1.72336135e-31\n",
      "    0.00000000e+00   4.01040930e-22   0.00000000e+00   2.10564419e-22\n",
      "    4.50434858e-37   1.30737113e-27   0.00000000e+00   0.00000000e+00\n",
      "    0.00000000e+00   1.33014399e-20   3.56063940e-36   1.00000000e+00\n",
      "    0.00000000e+00   0.00000000e+00   0.00000000e+00   0.00000000e+00\n",
      "    0.00000000e+00   0.00000000e+00   2.57590210e-33   0.00000000e+00\n",
      "    0.00000000e+00   0.00000000e+00   0.00000000e+00]\n",
      " [  4.48044210e-14   4.67310406e-16   4.58265747e-27   1.26416272e-28\n",
      "    2.01026038e-31   6.13245006e-23   3.53943981e-24   1.05357871e-22\n",
      "    5.01044886e-24   1.55302338e-09   3.74098481e-19   3.21660398e-17\n",
      "    9.99995947e-01   4.53473335e-11   5.55762984e-22   8.82874003e-23\n",
      "    7.74057085e-09   3.65747504e-20   2.53778575e-25   4.30642521e-25\n",
      "    1.84709778e-17   6.51673739e-38   4.45554999e-25   1.41163234e-20\n",
      "    4.51622026e-29   6.33293585e-15   1.12164765e-16   7.79396376e-35\n",
      "    6.38267871e-15   5.81302449e-15   2.19956666e-24   8.53898055e-30\n",
      "    1.90988510e-11   4.54992072e-30   6.71352358e-17   1.71245971e-12\n",
      "    1.96927230e-25   3.25604235e-20   4.54952786e-12   3.55761092e-21\n",
      "    3.33458900e-07   3.72670934e-06   1.09383755e-20]]\n",
      "TopKV2(values=array([[  9.99872208e-01,   1.26157465e-04,   1.63594200e-06,\n",
      "          3.96604777e-10,   1.43324644e-10],\n",
      "       [  1.00000000e+00,   9.51591410e-12,   2.09817671e-17,\n",
      "          3.57186120e-22,   7.26914372e-23],\n",
      "       [  1.00000000e+00,   1.50264826e-25,   1.20199299e-26,\n",
      "          6.97395257e-27,   5.15983711e-27],\n",
      "       [  1.00000000e+00,   1.33014399e-20,   4.01040930e-22,\n",
      "          2.10564419e-22,   1.30737113e-27],\n",
      "       [  9.99995947e-01,   3.72670934e-06,   3.33458900e-07,\n",
      "          7.74057085e-09,   1.55302338e-09]], dtype=float32), indices=array([[34, 38, 11, 32, 28],\n",
      "       [11, 30, 34, 18, 28],\n",
      "       [13, 35,  9, 38,  0],\n",
      "       [31, 29, 21, 23, 25],\n",
      "       [12, 41, 40, 16,  9]], dtype=int32))\n"
     ]
    }
   ],
   "source": [
    "softmax_logits = tf.nn.softmax(logits)\n",
    "top_k = tf.nn.top_k(softmax_logits, k=5)\n",
    "\n",
    "\n",
    "with tf.Session() as sess:\n",
    "    sess.run(tf.global_variables_initializer())\n",
    "    saver.restore(sess, tf.train.latest_checkpoint('.'))\n",
    "    my_softmax_logits = sess.run(softmax_logits, feed_dict={x: my_images, keep_prob: 1.0})\n",
    "    my_top_k = sess.run(top_k, feed_dict={x: my_images, keep_prob: 1.0})\n",
    "    print(my_softmax_logits)\n",
    "    print(my_top_k)"
   ]
  },
  {
   "cell_type": "markdown",
   "metadata": {},
   "source": [
    "### Project Writeup\n",
    "\n",
    "Once you have completed the code implementation, document your results in a project writeup using this [template](https://github.com/udacity/CarND-Traffic-Sign-Classifier-Project/blob/master/writeup_template.md) as a guide. The writeup can be in a markdown or pdf file. "
   ]
  },
  {
   "cell_type": "markdown",
   "metadata": {},
   "source": [
    "> **Note**: Once you have completed all of the code implementations and successfully answered each question above, you may finalize your work by exporting the iPython Notebook as an HTML document. You can do this by using the menu above and navigating to  \\n\",\n",
    "    \"**File -> Download as -> HTML (.html)**. Include the finished document along with this notebook as your submission."
   ]
  },
  {
   "cell_type": "markdown",
   "metadata": {},
   "source": [
    "---\n",
    "\n",
    "## Step 4 (Optional): Visualize the Neural Network's State with Test Images\n",
    "\n",
    " This Section is not required to complete but acts as an additional excersise for understaning the output of a neural network's weights. While neural networks can be a great learning device they are often referred to as a black box. We can understand what the weights of a neural network look like better by plotting their feature maps. After successfully training your neural network you can see what it's feature maps look like by plotting the output of the network's weight layers in response to a test stimuli image. From these plotted feature maps, it's possible to see what characteristics of an image the network finds interesting. For a sign, maybe the inner network feature maps react with high activation to the sign's boundary outline or to the contrast in the sign's painted symbol.\n",
    "\n",
    " Provided for you below is the function code that allows you to get the visualization output of any tensorflow weight layer you want. The inputs to the function should be a stimuli image, one used during training or a new one you provided, and then the tensorflow variable name that represents the layer's state during the training process, for instance if you wanted to see what the [LeNet lab's](https://classroom.udacity.com/nanodegrees/nd013/parts/fbf77062-5703-404e-b60c-95b78b2f3f9e/modules/6df7ae49-c61c-4bb2-a23e-6527e69209ec/lessons/601ae704-1035-4287-8b11-e2c2716217ad/concepts/d4aca031-508f-4e0b-b493-e7b706120f81) feature maps looked like for it's second convolutional layer you could enter conv2 as the tf_activation variable.\n",
    "\n",
    "For an example of what feature map outputs look like, check out NVIDIA's results in their paper [End-to-End Deep Learning for Self-Driving Cars](https://devblogs.nvidia.com/parallelforall/deep-learning-self-driving-cars/) in the section Visualization of internal CNN State. NVIDIA was able to show that their network's inner weights had high activations to road boundary lines by comparing feature maps from an image with a clear path to one without. Try experimenting with a similar test to show that your trained network's weights are looking for interesting features, whether it's looking at differences in feature maps from images with or without a sign, or even what feature maps look like in a trained network vs a completely untrained one on the same sign image.\n",
    "\n",
    "<figure>\n",
    " <img src=\"visualize_cnn.png\" width=\"380\" alt=\"Combined Image\" />\n",
    " <figcaption>\n",
    " <p></p> \n",
    " <p style=\"text-align: center;\"> Your output should look something like this (above)</p> \n",
    " </figcaption>\n",
    "</figure>\n",
    " <p></p> \n"
   ]
  },
  {
   "cell_type": "code",
   "execution_count": null,
   "metadata": {},
   "outputs": [],
   "source": [
    "### Visualize your network's feature maps here.\n",
    "### Feel free to use as many code cells as needed.\n",
    "\n",
    "# image_input: the test image being fed into the network to produce the feature maps\n",
    "# tf_activation: should be a tf variable name used during your training procedure that represents the calculated state of a specific weight layer\n",
    "# activation_min/max: can be used to view the activation contrast in more detail, by default matplot sets min and max to the actual min and max values of the output\n",
    "# plt_num: used to plot out multiple different weight feature map sets on the same block, just extend the plt number for each new feature map entry\n",
    "\n",
    "def outputFeatureMap(image_input, tf_activation, activation_min=-1, activation_max=-1 ,plt_num=1):\n",
    "    # Here make sure to preprocess your image_input in a way your network expects\n",
    "    # with size, normalization, ect if needed\n",
    "    # image_input =\n",
    "    # Note: x should be the same name as your network's tensorflow data placeholder variable\n",
    "    # If you get an error tf_activation is not defined it may be having trouble accessing the variable from inside a function\n",
    "    activation = tf_activation.eval(session=sess,feed_dict={x : image_input})\n",
    "    featuremaps = activation.shape[3]\n",
    "    plt.figure(plt_num, figsize=(15,15))\n",
    "    for featuremap in range(featuremaps):\n",
    "        plt.subplot(6,8, featuremap+1) # sets the number of feature maps to show on each row and column\n",
    "        plt.title('FeatureMap ' + str(featuremap)) # displays the feature map number\n",
    "        if activation_min != -1 & activation_max != -1:\n",
    "            plt.imshow(activation[0,:,:, featuremap], interpolation=\"nearest\", vmin =activation_min, vmax=activation_max, cmap=\"gray\")\n",
    "        elif activation_max != -1:\n",
    "            plt.imshow(activation[0,:,:, featuremap], interpolation=\"nearest\", vmax=activation_max, cmap=\"gray\")\n",
    "        elif activation_min !=-1:\n",
    "            plt.imshow(activation[0,:,:, featuremap], interpolation=\"nearest\", vmin=activation_min, cmap=\"gray\")\n",
    "        else:\n",
    "            plt.imshow(activation[0,:,:, featuremap], interpolation=\"nearest\", cmap=\"gray\")"
   ]
  }
 ],
 "metadata": {
  "anaconda-cloud": {},
  "kernelspec": {
   "display_name": "Python 3",
   "language": "python",
   "name": "python3"
  },
  "language_info": {
   "codemirror_mode": {
    "name": "ipython",
    "version": 3
   },
   "file_extension": ".py",
   "mimetype": "text/x-python",
   "name": "python",
   "nbconvert_exporter": "python",
   "pygments_lexer": "ipython3",
   "version": "3.6.3"
  }
 },
 "nbformat": 4,
 "nbformat_minor": 1
}
